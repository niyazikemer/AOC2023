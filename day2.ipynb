{
 "cells": [
  {
   "cell_type": "markdown",
   "metadata": {},
   "source": [
    "For example, the record of a few games might look like this:\n",
    "```\n",
    "Game 1: 3 blue, 4 red; 1 red, 2 green, 6 blue; 2 green\n",
    "Game 2: 1 blue, 2 green; 3 green, 4 blue, 1 red; 1 green, 1 blue\n",
    "Game 3: 8 green, 6 blue, 20 red; 5 blue, 4 red, 13 green; 5 green, 1 red\n",
    "Game 4: 1 green, 3 red, 6 blue; 3 green, 6 red; 3 green, 15 blue, 14 red\n",
    "Game 5: 6 red, 1 blue, 3 green; 2 blue, 1 red, 2 green\n",
    "```\n",
    "In game 1, three sets of cubes are revealed from the bag (and then put back again). The first set is 3 blue cubes and 4 red cubes; the second set is 1 red cube, 2 green cubes, and 6 blue cubes; the third set is only 2 green cubes.\n",
    "\n",
    "The Elf would first like to know which games would have been possible if the bag contained only `12 red cubes, 13 green cubes, and 14 blue cubes`?\n",
    "\n",
    "In the example above, games 1, 2, and 5 would have been possible if the bag had been loaded with that configuration. However, game 3 would have been impossible because at one point the Elf showed you 20 red cubes at once; similarly, game 4 would also have been impossible because the Elf showed you 15 blue cubes at once. If you add up the IDs of the games that would have been possible, you get 8."
   ]
  },
  {
   "cell_type": "markdown",
   "metadata": {},
   "source": [
    "### I believe this is exatly a string manipulation exercise. So my plan is to:\n",
    "- Make all the information as a dictionary.\n"
   ]
  },
  {
   "cell_type": "code",
   "execution_count": 12,
   "metadata": {},
   "outputs": [
    {
     "name": "stdout",
     "output_type": "stream",
     "text": [
      "max allowed: {'red': 12, 'green': 13, 'blue': 14}\n",
      "colors : ['red', 'green', 'blue']\n",
      "Game 1: 3 blue, 4 red; 1 red, 2 green, 6 blue; 2 green\n",
      "Game 2: 1 blue, 2 green; 3 green, 4 blue, 1 red; 1 green, 1 blue\n",
      "Game 3: 8 green, 6 blue, 20 red; 5 blue, 4 red, 13 green; 5 green, 1 red\n",
      "Game 4: 1 green, 3 red, 6 blue; 3 green, 6 red; 3 green, 15 blue, 14 red\n",
      "Game 5: 6 red, 1 blue, 3 green; 2 blue, 1 red, 2 green\n",
      "Game 3: 8 green, 6 blue, 20 red; 5 blue, 4 red, 13 green; 5 green, 1 red\n"
     ]
    }
   ],
   "source": [
    "max_allowed = {\"red\": 12, \"green\": 13, \"blue\":14}\n",
    "print(f'max allowed: {max_allowed}')\n",
    "colors =  list(max_allowed.keys())\n",
    "print(f'colors : {colors}')\n",
    "samples =\"\"\"Game 1: 3 blue, 4 red; 1 red, 2 green, 6 blue; 2 green\n",
    "Game 2: 1 blue, 2 green; 3 green, 4 blue, 1 red; 1 green, 1 blue\n",
    "Game 3: 8 green, 6 blue, 20 red; 5 blue, 4 red, 13 green; 5 green, 1 red\n",
    "Game 4: 1 green, 3 red, 6 blue; 3 green, 6 red; 3 green, 15 blue, 14 red\n",
    "Game 5: 6 red, 1 blue, 3 green; 2 blue, 1 red, 2 green\"\"\"\n",
    "print(samples)\n",
    "data_point = samples.splitlines()[2]\n",
    "print(data_point)"
   ]
  },
  {
   "cell_type": "code",
   "execution_count": 14,
   "metadata": {},
   "outputs": [
    {
     "data": {
      "text/plain": [
       "'Game 1: 3 blue, 4 red; 1 red, 2 green, 6 blue; 2 green'"
      ]
     },
     "execution_count": 14,
     "metadata": {},
     "output_type": "execute_result"
    }
   ],
   "source": [
    "data_point = samples.splitlines()[0]\n",
    "data_point "
   ]
  },
  {
   "cell_type": "code",
   "execution_count": 17,
   "metadata": {},
   "outputs": [],
   "source": [
    "from aocd import get_data\n",
    "data = get_data(day=2, year=2023)\n",
    "data = data.splitlines()"
   ]
  },
  {
   "cell_type": "code",
   "execution_count": 44,
   "metadata": {},
   "outputs": [
    {
     "data": {
      "text/plain": [
       "'Game 8: 10 red, 6 green; 4 blue, 6 green, 5 red; 8 green, 5 red, 5 blue; 2 red, 4 blue'"
      ]
     },
     "execution_count": 44,
     "metadata": {},
     "output_type": "execute_result"
    }
   ],
   "source": [
    "data_point = data[7]\n",
    "data_point"
   ]
  },
  {
   "cell_type": "code",
   "execution_count": null,
   "metadata": {},
   "outputs": [],
   "source": [
    "def data_point_to_dict(data_point):    \n",
    "    single_game_dictionary = {}\n",
    "    single_game_info = data_point.split(\":\")\n",
    "    name = single_game_info.pop(0)\n",
    "    # print(name)\n",
    "    game_id = int(name.split(\" \")[1])\n",
    "    single_game_dictionary[\"id\"] = game_id\n",
    "\n",
    "    single_game_info = single_game_info[0].replace(\";\", \",\")  \n",
    "    single_game_info = single_game_info.split(\",\")\n",
    "    # print(single_game_info)\n",
    "\n",
    "    for i in single_game_info:\n",
    "        i = i.strip()    \n",
    "        count, color = i.split(\" \")\n",
    "        # print(count, color)\n",
    "        count = int(count)\n",
    "        if count > single_game_dictionary.get(color, 0):\n",
    "            single_game_dictionary[color] = count\n",
    "    return single_game_dictionary\n",
    "\n",
    "dpd= data_point_to_dict(data_point)"
   ]
  },
  {
   "cell_type": "code",
   "execution_count": 57,
   "metadata": {},
   "outputs": [
    {
     "data": {
      "text/plain": [
       "True"
      ]
     },
     "execution_count": 57,
     "metadata": {},
     "output_type": "execute_result"
    }
   ],
   "source": [
    "def compare_data_point(single_game_dictionary,max_allowed):\n",
    "    return single_game_dictionary[\"red\"]<=max_allowed[\"red\"] and single_game_dictionary[\"blue\"]<=max_allowed[\"blue\"] and single_game_dictionary[\"green\"]<=max_allowed[\"green\"]\n",
    "\n",
    "compare_data_point(dpd,max_allowed)\n",
    "    \n",
    "\n",
    "    \n"
   ]
  },
  {
   "cell_type": "code",
   "execution_count": 58,
   "metadata": {},
   "outputs": [],
   "source": [
    "def calculate_ids(data):\n",
    "    score = 0\n",
    "    for dp in data:\n",
    "        dd = data_point_to_dict(dp)\n",
    "        # print(dd)\n",
    "        if compare_data_point(dd,max_allowed):            \n",
    "             score += dd[\"id\"]\n",
    "    return score"
   ]
  },
  {
   "cell_type": "code",
   "execution_count": 59,
   "metadata": {},
   "outputs": [
    {
     "data": {
      "text/plain": [
       "2476"
      ]
     },
     "execution_count": 59,
     "metadata": {},
     "output_type": "execute_result"
    }
   ],
   "source": [
    "calculate_ids(data)"
   ]
  },
  {
   "cell_type": "code",
   "execution_count": 62,
   "metadata": {},
   "outputs": [
    {
     "data": {
      "text/plain": [
       "54911"
      ]
     },
     "execution_count": 62,
     "metadata": {},
     "output_type": "execute_result"
    }
   ],
   "source": [
    "def powerset(data):\n",
    "    score = 0     \n",
    "    for dp in data:\n",
    "        dd = data_point_to_dict(dp)\n",
    "        score += dd[\"red\"]*dd[\"blue\"]*dd[\"green\"]               \n",
    "    return score\n",
    "powerset(data)"
   ]
  }
 ],
 "metadata": {
  "kernelspec": {
   "display_name": "base",
   "language": "python",
   "name": "python3"
  },
  "language_info": {
   "codemirror_mode": {
    "name": "ipython",
    "version": 3
   },
   "file_extension": ".py",
   "mimetype": "text/x-python",
   "name": "python",
   "nbconvert_exporter": "python",
   "pygments_lexer": "ipython3",
   "version": "3.10.14"
  }
 },
 "nbformat": 4,
 "nbformat_minor": 2
}
